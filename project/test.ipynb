{
 "cells": [
  {
   "cell_type": "code",
   "execution_count": 56,
   "metadata": {},
   "outputs": [],
   "source": [
    "from bs4 import BeautifulSoup as bs\n",
    "\n",
    "import re"
   ]
  },
  {
   "cell_type": "code",
   "execution_count": 86,
   "metadata": {},
   "outputs": [],
   "source": [
    "with open('Overall.html', 'r', encoding='utf-8') as file:\n",
    "    html_content = file.read()\n",
    "\n",
    "# Step 2: Parse the HTML content with BeautifulSoup\n",
    "soup = bs(html_content, 'html.parser')"
   ]
  },
  {
   "cell_type": "code",
   "execution_count": 81,
   "metadata": {},
   "outputs": [
    {
     "data": {
      "text/plain": [
       "'https://assets.myntassets.com/f_webp,dpr_1.0,q_60,w_210,c_limit,fl_progressive/assets/images/23484790/2023/5/31/14fc49d0-6ce3-4410-9e8c-147f57c539d91685518426707HRXbyHrithikRoshanMenWhiteMeshRunningNon-MarkingShoes1.jpg'"
      ]
     },
     "execution_count": 81,
     "metadata": {},
     "output_type": "execute_result"
    }
   ],
   "source": [
    "imgSource  = soup.ul.find_all('li')[0].find(\"picture\",attrs={\"class\":\"img-responsive\"}).source['srcset'].replace(\"\\n\",\"\").strip()\n",
    "\n",
    "imgSource = imgSource.split(\", \")[0].strip()\n",
    "\n",
    "\n",
    "imgSource"
   ]
  },
  {
   "cell_type": "code",
   "execution_count": 67,
   "metadata": {},
   "outputs": [
    {
     "data": {
      "text/plain": [
       "'Women Printed Top'"
      ]
     },
     "execution_count": 67,
     "metadata": {},
     "output_type": "execute_result"
    }
   ],
   "source": [
    "productName = soup.ul.find_all('li')[0].find(attrs={\"class\":\"product-product\"}).text\n",
    "productName"
   ]
  },
  {
   "cell_type": "code",
   "execution_count": 65,
   "metadata": {},
   "outputs": [
    {
     "name": "stdout",
     "output_type": "stream",
     "text": [
      "285\n"
     ]
    }
   ],
   "source": [
    "cost = soup.ul.find_all('li')[0].find('span',attrs={\"class\":\"product-discountedPrice\"}).text.replace(\"\\n\",\"\").replace(\"Rs.\",\"\").strip()\n",
    "print(cost)\n"
   ]
  },
  {
   "cell_type": "code",
   "execution_count": 88,
   "metadata": {},
   "outputs": [
    {
     "name": "stdout",
     "output_type": "stream",
     "text": [
      "701\n",
      "Stand Collar Padded Jacket\n",
      "https://assets.myntassets.com/f_webp,dpr_1.5,q_60,w_210,c_limit,fl_progressive/assets/images/25042524/2023/9/18/05a33d8a-3a6c-4f19-b082-fc1210aad2c01695015992607HIGHLANDERMenBlackPufferJacket1.jpg\n",
      "'NoneType' object has no attribute 'text'\n",
      "1149\n",
      "Solid Denim Jacket\n",
      "https://assets.myntassets.com/f_webp,dpr_1.5,q_60,w_210,c_limit,fl_progressive/assets/images/12288636/2020/11/9/88fd0f92-dc70-4dbe-80cc-a51b235a0f4d1604916275922-Roadster-Men-Jackets-7881604916273843-1.jpg\n",
      "'NoneType' object has no attribute 'text'\n",
      "1187\n",
      "Padded Jacket\n",
      "https://assets.myntassets.com/f_webp,dpr_1.5,q_60,w_210,c_limit,fl_progressive/assets/images/19568348/2022/8/20/45e193db-2cc2-447d-914b-200de710b2c61660972241631RedTapeMenGreyStripedPufferJacket1.jpg\n",
      "626\n",
      "Men Solid Denim Jacket\n",
      "https://assets.myntassets.com/f_webp,dpr_1.5,q_60,w_210,c_limit,fl_progressive/assets/images/10948614/2022/12/7/725d5523-50ea-4b6f-8304-d2495ee6b2001670387262650LOCOMOTIVEMenBlueSolidDenimJacket1.jpg\n",
      "769\n",
      "Women Solid Bomber\n",
      "https://assets.myntassets.com/f_webp,dpr_1.5,q_60,w_210,c_limit,fl_progressive/assets/images/6983784/2018/9/15/646ebe46-4eed-4d07-93be-3d5b723806c71536983410939-Mast--Harbour-Women-Navy-Blue-Solid-Lightweight-Bomber-5111536983410750-1.jpg\n",
      "'NoneType' object has no attribute 'text'\n",
      "735\n",
      "Pure Cotton Trucker Jacket\n",
      "https://assets.myntassets.com/f_webp,dpr_1.5,q_60,w_210,c_limit,fl_progressive/assets/images/12279300/2023/11/20/ff0b0662-1c12-49d9-beea-a8e4aea707ed1700479574190TheRoadsterLifeCoPureCottonSolidDenimTruckerJacket1.jpg\n",
      "599\n",
      "Printed Denim Jacket\n",
      "https://assets.myntassets.com/f_webp,dpr_1.5,q_60,w_210,c_limit,fl_progressive/assets/images/18601482/2022/6/3/01c660a1-c771-4a56-8dee-056d1b691e1f1654249998495MONTREZWomenMulticolouredFloralBomberwithEmbroideredJacket1.jpg\n",
      "794\n",
      "Athleisure Sporty Jacket\n",
      "https://assets.myntassets.com/f_webp,dpr_1.5,q_60,w_210,c_limit,fl_progressive/assets/images/26087744/2023/11/28/b20e9d7a-ce4e-4d64-8636-2f0d4e72adb21701150660609KeepfitWomenBlackSportyJacket1.jpg\n",
      "1169\n",
      "Bomber Jacket\n",
      "https://assets.myntassets.com/f_webp,dpr_1.5,q_60,w_210,c_limit,fl_progressive/assets/images/19568316/2022/8/19/57f5504e-fde2-4403-9325-f1856424a37c1660907922653Jackets1.jpg\n",
      "799\n",
      "Printed Open Front Jacket\n",
      "https://assets.myntassets.com/f_webp,dpr_1.5,q_60,w_210,c_limit,fl_progressive/assets/images/productimage/2020/10/9/9b91988c-2603-4d41-88e9-a873b85569e41602194573342-1.jpg\n",
      "1090\n",
      "Solid Denim Jacket\n",
      "https://assets.myntassets.com/f_webp,dpr_1.5,q_60,w_210,c_limit,fl_progressive/assets/images/13982612/2021/6/24/7da22615-7b99-4a88-a181-08d622527e661624513357684-VOXATI-Men-Jackets-4381624513356934-1.jpg\n",
      "'NoneType' object has no attribute 'text'\n",
      "1187\n",
      "Padded Jacket\n",
      "https://assets.myntassets.com/f_webp,dpr_1.5,q_60,w_210,c_limit,fl_progressive/assets/images/19568342/2022/8/20/5a709d81-122c-4d7a-93d8-2122363143db1660970123900RedTapeMenMustardCropPufferJacket1.jpg\n",
      "819\n",
      "Corduroy Cropped Bomber Jacket\n",
      "https://assets.myntassets.com/f_webp,dpr_1.5,q_60,w_210,c_limit,fl_progressive/assets/images/12288112/2020/8/24/f6156d8a-0241-4f06-ae33-8b42abd51e5f1598260771946-SASSAFRAS-Women-Black-Solid-Bomber-1821598260769963-1.jpg\n",
      "688\n",
      "Solid Padded Jacket\n",
      "https://assets.myntassets.com/f_webp,dpr_1.5,q_60,w_210,c_limit,fl_progressive/assets/images/productimage/2020/11/13/b9c439e3-03d2-49ca-9b97-0790802cc1601605212218516-1.jpg\n",
      "819\n",
      "Men Solid Leather Jacket\n",
      "https://assets.myntassets.com/f_webp,dpr_1.5,q_60,w_210,c_limit,fl_progressive/assets/images/10607532/2022/12/7/3faa59ad-40e8-401c-99d4-4ea7df439f171670394869503HIGHLANDERMenBurgundySolidLeatherJacket1.jpg\n",
      "1199\n",
      "Solid Denim Jacket\n",
      "https://assets.myntassets.com/f_webp,dpr_1.5,q_60,w_210,c_limit,fl_progressive/assets/images/12834804/2023/10/1/99bda2c6-f847-4a9d-b844-51487d3e8e7f1696144159008-Hubberholme-Men-Black-Solid-Denim-Jacket-2071696144158802-6.jpg\n",
      "'NoneType' object has no attribute 'text'\n",
      "624\n",
      "Men Washed Denim Jacket\n",
      "https://assets.myntassets.com/f_webp,dpr_1.5,q_60,w_210,c_limit,fl_progressive/assets/images/12288780/2020/10/14/ed704fa2-2381-4555-b230-92241cdba3761602677797037-Roadster-Men-Jackets-2271602677795017-1.jpg\n",
      "873\n",
      "Solid Faux Fur Tailored Jacket\n",
      "https://assets.myntassets.com/f_webp,dpr_1.5,q_60,w_210,c_limit,fl_progressive/assets/images/12737940/2020/10/20/0504647b-206a-4037-97f3-5b6c9189b69b1603166030236-SASSAFRAS-Women-Jackets-1451603166028586-1.jpg\n",
      "688\n",
      "Solid Padded Jacket\n",
      "https://assets.myntassets.com/f_webp,dpr_1.5,q_60,w_210,c_limit,fl_progressive/assets/images/12970036/2021/7/27/e15fb0c4-04e2-4f6a-9bcb-8d858103e5791627375771058LOCOMOTIVEMenMaroonSolidPaddedJacket1.jpg\n",
      "794\n",
      "Stand Collar Tailored Jacket\n",
      "https://assets.myntassets.com/f_webp,dpr_1.5,q_60,w_210,c_limit,fl_progressive/assets/images/25928392/2023/11/18/4430d544-fbbc-45a8-8cc7-01f6b33085be1700294412736KeepfitWomenBlackCropTailoredJacket1.jpg\n",
      "671\n",
      "Men Solid Puffer Jacket\n",
      "https://assets.myntassets.com/f_webp,dpr_1.5,q_60,w_210,c_limit,fl_progressive/assets/images/productimage/2019/9/25/1ce705a9-c435-44a7-8c56-2ba5b41aab6f1569386033425-1.jpg\n",
      "874\n",
      "Women Solid Bomber Jacket\n",
      "https://assets.myntassets.com/f_webp,dpr_1.5,q_60,w_210,c_limit,fl_progressive/assets/images/14364150/2021/11/10/3bc81080-548c-4078-a821-b293788bf1871636542834058-Mast--Harbour-Women-Jackets-3181636542833320-1.jpg\n",
      "974\n",
      "Solid Padded Jacket\n",
      "https://assets.myntassets.com/f_webp,dpr_1.5,q_60,w_210,c_limit,fl_progressive/assets/images/19435462/2022/10/14/3d9fdf74-4769-4cbd-ba5a-529f5b674bd11665745243102-Fort-Collins-Men-Jackets-7271665745242413-1.jpg\n",
      "703\n",
      "Pure Cotton Trucker Jacket\n",
      "https://assets.myntassets.com/f_webp,dpr_1.5,q_60,w_210,c_limit,fl_progressive/assets/images/12279416/2023/11/16/a5b761a2-776c-459d-96f0-50f422c89cfd1700130985118TheRoadsterLifeCoPureCottonSolidDenimTruckerJacket1.jpg\n",
      "1119\n",
      "Lightweight Sporty Jacket\n",
      "https://assets.myntassets.com/f_webp,dpr_1.5,q_60,w_210,c_limit,fl_progressive/assets/images/25381592/2023/10/6/481a12ab-dfcf-4090-ba22-f73330ca49cb1696589713600BodySmithWomenPinkLightweightTrainingorGymBomberJacket1.jpg\n",
      "907\n",
      "Puffer Jacket\n",
      "https://assets.myntassets.com/f_webp,dpr_1.5,q_60,w_210,c_limit,fl_progressive/assets/images/15927640/2021/10/26/4cd42dc9-d96a-4e2e-89eb-6df0e8b393c81635232658135TokyoTalkiesWomenBlackPufferJacket1.jpg\n",
      "804\n",
      "Solid Windcheater Bomber\n",
      "https://assets.myntassets.com/f_webp,dpr_1.5,q_60,w_210,c_limit,fl_progressive/assets/images/12252608/2020/9/22/79e2be7c-73fc-48b6-abe1-f18cd7f4798f1600759255991-Campus-Sutra-Men-Solid-Stylish-Bomber-Jacket-624160075925237-1.jpg\n",
      "899\n",
      "Lightweight Bomber Jacket\n",
      "'NoneType' object has no attribute 'source'\n",
      "599\n",
      "Washed Crop Denim Jacket\n",
      "'NoneType' object has no attribute 'source'\n",
      "599\n",
      "Women Pure Cotton Denim Jacket\n",
      "'NoneType' object has no attribute 'source'\n",
      "479\n",
      "Women Solid Denim Jacket\n",
      "'NoneType' object has no attribute 'source'\n",
      "607\n",
      "Women Solid Bomber\n",
      "'NoneType' object has no attribute 'source'\n",
      "899\n",
      "Colourblocked Puffer Jacket\n",
      "'NoneType' object has no attribute 'source'\n",
      "859\n",
      "Washed Denim Jacket\n",
      "'NoneType' object has no attribute 'source'\n",
      "'NoneType' object has no attribute 'text'\n",
      "671\n",
      "Men Black Padded Jacket\n",
      "'NoneType' object has no attribute 'source'\n",
      "'NoneType' object has no attribute 'text'\n",
      "689\n",
      "Solid Puffer Jacket\n",
      "'NoneType' object has no attribute 'source'\n",
      "758\n",
      "Corduroy Crop Tailored Jacket\n",
      "'NoneType' object has no attribute 'source'\n",
      "629\n",
      "Striped Padded Jacket\n",
      "'NoneType' object has no attribute 'source'\n",
      "933\n",
      "Men Solid Bomber Jacket\n",
      "'NoneType' object has no attribute 'source'\n",
      "629\n",
      "Men Striped Denim Jacket\n",
      "'NoneType' object has no attribute 'source'\n",
      "'NoneType' object has no attribute 'text'\n",
      "643\n",
      "Padded Jacket\n",
      "'NoneType' object has no attribute 'source'\n",
      "637\n",
      "Men Solid Denim Jacket\n",
      "'NoneType' object has no attribute 'source'\n",
      "'NoneType' object has no attribute 'text'\n",
      "'NoneType' object has no attribute 'text'\n",
      "'NoneType' object has no attribute 'text'\n",
      "'NoneType' object has no attribute 'text'\n",
      "'NoneType' object has no attribute 'text'\n"
     ]
    },
    {
     "data": {
      "text/plain": [
       "\"(3,'Stand Collar Padded Jacket',701,'https://assets.myntassets.com/f_webp,dpr_1.5,q_60,w_210,c_limit,fl_progressive/assets/images/25042524/2023/9/18/05a33d8a-3a6c-4f19-b082-fc1210aad2c01695015992607HIGHLANDERMenBlackPufferJacket1.jpg') , (3,'Solid Denim Jacket',1149,'https://assets.myntassets.com/f_webp,dpr_1.5,q_60,w_210,c_limit,fl_progressive/assets/images/12288636/2020/11/9/88fd0f92-dc70-4dbe-80cc-a51b235a0f4d1604916275922-Roadster-Men-Jackets-7881604916273843-1.jpg') , (3,'Padded Jacket',1187,'https://assets.myntassets.com/f_webp,dpr_1.5,q_60,w_210,c_limit,fl_progressive/assets/images/19568348/2022/8/20/45e193db-2cc2-447d-914b-200de710b2c61660972241631RedTapeMenGreyStripedPufferJacket1.jpg') , (3,'Men Solid Denim Jacket',626,'https://assets.myntassets.com/f_webp,dpr_1.5,q_60,w_210,c_limit,fl_progressive/assets/images/10948614/2022/12/7/725d5523-50ea-4b6f-8304-d2495ee6b2001670387262650LOCOMOTIVEMenBlueSolidDenimJacket1.jpg') , (3,'Women Solid Bomber',769,'https://assets.myntassets.com/f_webp,dpr_1.5,q_60,w_210,c_limit,fl_progressive/assets/images/6983784/2018/9/15/646ebe46-4eed-4d07-93be-3d5b723806c71536983410939-Mast--Harbour-Women-Navy-Blue-Solid-Lightweight-Bomber-5111536983410750-1.jpg') , (3,'Pure Cotton Trucker Jacket',735,'https://assets.myntassets.com/f_webp,dpr_1.5,q_60,w_210,c_limit,fl_progressive/assets/images/12279300/2023/11/20/ff0b0662-1c12-49d9-beea-a8e4aea707ed1700479574190TheRoadsterLifeCoPureCottonSolidDenimTruckerJacket1.jpg') , (3,'Printed Denim Jacket',599,'https://assets.myntassets.com/f_webp,dpr_1.5,q_60,w_210,c_limit,fl_progressive/assets/images/18601482/2022/6/3/01c660a1-c771-4a56-8dee-056d1b691e1f1654249998495MONTREZWomenMulticolouredFloralBomberwithEmbroideredJacket1.jpg') , (3,'Athleisure Sporty Jacket',794,'https://assets.myntassets.com/f_webp,dpr_1.5,q_60,w_210,c_limit,fl_progressive/assets/images/26087744/2023/11/28/b20e9d7a-ce4e-4d64-8636-2f0d4e72adb21701150660609KeepfitWomenBlackSportyJacket1.jpg') , (3,'Bomber Jacket',1169,'https://assets.myntassets.com/f_webp,dpr_1.5,q_60,w_210,c_limit,fl_progressive/assets/images/19568316/2022/8/19/57f5504e-fde2-4403-9325-f1856424a37c1660907922653Jackets1.jpg') , (3,'Printed Open Front Jacket',799,'https://assets.myntassets.com/f_webp,dpr_1.5,q_60,w_210,c_limit,fl_progressive/assets/images/productimage/2020/10/9/9b91988c-2603-4d41-88e9-a873b85569e41602194573342-1.jpg') , (3,'Solid Denim Jacket',1090,'https://assets.myntassets.com/f_webp,dpr_1.5,q_60,w_210,c_limit,fl_progressive/assets/images/13982612/2021/6/24/7da22615-7b99-4a88-a181-08d622527e661624513357684-VOXATI-Men-Jackets-4381624513356934-1.jpg') , (3,'Padded Jacket',1187,'https://assets.myntassets.com/f_webp,dpr_1.5,q_60,w_210,c_limit,fl_progressive/assets/images/19568342/2022/8/20/5a709d81-122c-4d7a-93d8-2122363143db1660970123900RedTapeMenMustardCropPufferJacket1.jpg') , (3,'Corduroy Cropped Bomber Jacket',819,'https://assets.myntassets.com/f_webp,dpr_1.5,q_60,w_210,c_limit,fl_progressive/assets/images/12288112/2020/8/24/f6156d8a-0241-4f06-ae33-8b42abd51e5f1598260771946-SASSAFRAS-Women-Black-Solid-Bomber-1821598260769963-1.jpg') , (3,'Solid Padded Jacket',688,'https://assets.myntassets.com/f_webp,dpr_1.5,q_60,w_210,c_limit,fl_progressive/assets/images/productimage/2020/11/13/b9c439e3-03d2-49ca-9b97-0790802cc1601605212218516-1.jpg') , (3,'Men Solid Leather Jacket',819,'https://assets.myntassets.com/f_webp,dpr_1.5,q_60,w_210,c_limit,fl_progressive/assets/images/10607532/2022/12/7/3faa59ad-40e8-401c-99d4-4ea7df439f171670394869503HIGHLANDERMenBurgundySolidLeatherJacket1.jpg') , (3,'Solid Denim Jacket',1199,'https://assets.myntassets.com/f_webp,dpr_1.5,q_60,w_210,c_limit,fl_progressive/assets/images/12834804/2023/10/1/99bda2c6-f847-4a9d-b844-51487d3e8e7f1696144159008-Hubberholme-Men-Black-Solid-Denim-Jacket-2071696144158802-6.jpg') , (3,'Men Washed Denim Jacket',624,'https://assets.myntassets.com/f_webp,dpr_1.5,q_60,w_210,c_limit,fl_progressive/assets/images/12288780/2020/10/14/ed704fa2-2381-4555-b230-92241cdba3761602677797037-Roadster-Men-Jackets-2271602677795017-1.jpg') , (3,'Solid Faux Fur Tailored Jacket',873,'https://assets.myntassets.com/f_webp,dpr_1.5,q_60,w_210,c_limit,fl_progressive/assets/images/12737940/2020/10/20/0504647b-206a-4037-97f3-5b6c9189b69b1603166030236-SASSAFRAS-Women-Jackets-1451603166028586-1.jpg') , (3,'Solid Padded Jacket',688,'https://assets.myntassets.com/f_webp,dpr_1.5,q_60,w_210,c_limit,fl_progressive/assets/images/12970036/2021/7/27/e15fb0c4-04e2-4f6a-9bcb-8d858103e5791627375771058LOCOMOTIVEMenMaroonSolidPaddedJacket1.jpg') , (3,'Stand Collar Tailored Jacket',794,'https://assets.myntassets.com/f_webp,dpr_1.5,q_60,w_210,c_limit,fl_progressive/assets/images/25928392/2023/11/18/4430d544-fbbc-45a8-8cc7-01f6b33085be1700294412736KeepfitWomenBlackCropTailoredJacket1.jpg') , (3,'Men Solid Puffer Jacket',671,'https://assets.myntassets.com/f_webp,dpr_1.5,q_60,w_210,c_limit,fl_progressive/assets/images/productimage/2019/9/25/1ce705a9-c435-44a7-8c56-2ba5b41aab6f1569386033425-1.jpg') , (3,'Women Solid Bomber Jacket',874,'https://assets.myntassets.com/f_webp,dpr_1.5,q_60,w_210,c_limit,fl_progressive/assets/images/14364150/2021/11/10/3bc81080-548c-4078-a821-b293788bf1871636542834058-Mast--Harbour-Women-Jackets-3181636542833320-1.jpg') , (3,'Solid Padded Jacket',974,'https://assets.myntassets.com/f_webp,dpr_1.5,q_60,w_210,c_limit,fl_progressive/assets/images/19435462/2022/10/14/3d9fdf74-4769-4cbd-ba5a-529f5b674bd11665745243102-Fort-Collins-Men-Jackets-7271665745242413-1.jpg') , (3,'Pure Cotton Trucker Jacket',703,'https://assets.myntassets.com/f_webp,dpr_1.5,q_60,w_210,c_limit,fl_progressive/assets/images/12279416/2023/11/16/a5b761a2-776c-459d-96f0-50f422c89cfd1700130985118TheRoadsterLifeCoPureCottonSolidDenimTruckerJacket1.jpg') , (3,'Lightweight Sporty Jacket',1119,'https://assets.myntassets.com/f_webp,dpr_1.5,q_60,w_210,c_limit,fl_progressive/assets/images/25381592/2023/10/6/481a12ab-dfcf-4090-ba22-f73330ca49cb1696589713600BodySmithWomenPinkLightweightTrainingorGymBomberJacket1.jpg') , (3,'Puffer Jacket',907,'https://assets.myntassets.com/f_webp,dpr_1.5,q_60,w_210,c_limit,fl_progressive/assets/images/15927640/2021/10/26/4cd42dc9-d96a-4e2e-89eb-6df0e8b393c81635232658135TokyoTalkiesWomenBlackPufferJacket1.jpg') , (3,'Solid Windcheater Bomber',804,'https://assets.myntassets.com/f_webp,dpr_1.5,q_60,w_210,c_limit,fl_progressive/assets/images/12252608/2020/9/22/79e2be7c-73fc-48b6-abe1-f18cd7f4798f1600759255991-Campus-Sutra-Men-Solid-Stylish-Bomber-Jacket-624160075925237-1.jpg') , \""
      ]
     },
     "execution_count": 88,
     "metadata": {},
     "output_type": "execute_result"
    }
   ],
   "source": [
    "\n",
    "mainStr = \"\"\n",
    "for ele in soup.ul.find_all('li'):\n",
    "    try:\n",
    "        cost = ele.find('span',attrs={\"class\":\"product-discountedPrice\"}).text.replace(\"\\n\",\"\").replace(\"Rs.\",\"\").strip()\n",
    "        print(cost)\n",
    "        productName = ele.find(attrs={\"class\":\"product-product\"}).text\n",
    "        print(productName)\n",
    "        imgSource  = ele.find(\"picture\",attrs={\"class\":\"img-responsive\"}).source['srcset'].replace(\"\\n\",\"\").strip()\n",
    "\n",
    "        imgSource = imgSource.split(\", \")[0].strip()\n",
    "        print(imgSource)\n",
    "\n",
    "        mainStr=mainStr+\"(3,'\"+productName+\"',\"+str(int(cost))+\",'\"+imgSource+\"') , \" \n",
    "    except Exception as ex:\n",
    "        print(ex)\n",
    "mainStr\n",
    "\n",
    "\n",
    "\n"
   ]
  },
  {
   "cell_type": "code",
   "execution_count": 121,
   "metadata": {},
   "outputs": [
    {
     "name": "stdout",
     "output_type": "stream",
     "text": [
      "(1,2), (1,3), (1,1), (2,3), (3,3), (3,2), (4,2), (5,3), (5,2), (6,1), (6,3), (7,3), (7,1), (8,1), (8,3), (9,2), (9,3), (10,3), (11,3), (12,3), (13,3), (14,1), (14,3), (14,2), (15,3), (15,1), (15,2), (16,1), (17,1), (17,2), (17,3), (18,2), (18,1), (18,3), (19,2), (19,1), (19,3), (20,3), (20,2), (21,1), (21,3), (22,2), (22,3), (23,1), (23,2), (24,2), (24,1), (24,3), (25,1), (25,2), (25,3), (26,2), (27,3), (28,1), (28,2), (29,3), (30,1), (31,2), (79,1), (79,3), (79,2), (80,1), (81,3), (81,2), (81,1), (82,3), (82,1), (82,2), (83,3), (83,1), (83,2), (84,1), (84,2), (84,3), (85,1), (86,1), (87,2), (88,3), (89,1), (89,2), (90,2), (90,3), (90,1), (91,2), (91,3), (92,3), (93,2), (93,3), (93,1), (94,1), (95,2), (95,3), (95,1), (96,1), (96,2), (96,3), (97,2), (98,3), (98,1), (98,2), (99,1), (100,3), (100,2), (101,3), (101,2), (102,3), (103,1), (103,2), (103,3), (104,3), (104,1), (105,2), (105,3), (105,1), (106,1), (106,2), (106,3), (107,3), (108,2), (108,3), (108,1), (109,3), (109,1), (109,2), (110,3), (110,2), (111,2), (111,1), (111,3), (112,3), (113,2), (113,3), (113,1), (114,1), (114,2), (115,3), (116,2), (116,3), (117,3), (118,1), (119,1), (120,1), (120,3), (121,2), (122,3), (122,2), (122,1), (123,1), (123,3), (123,2), (124,1), (124,3), (125,1), (126,3), (126,2), (126,1), (127,3), (128,2), (129,1), (129,3), (130,2), (130,3), (131,2), (132,3), (132,1), (132,2), (133,1), (134,1), (135,1), (135,3), (135,2), (136,2), (137,2), (137,1), (138,3), (138,1), (138,2), (139,3), (139,1), (140,2), (141,1), (142,3), (142,1), (142,2), (143,2), (143,1), (143,3), (144,2), (145,1), (146,1), (146,2), (147,2), (147,3), (147,1), (148,3), (148,2), (148,1), (149,1), (150,3), (151,1), (152,2), (152,1), \n"
     ]
    }
   ],
   "source": [
    "\n",
    "import random\n",
    "\n",
    "arr = [1,2,3,4,5,6,7,8,9,10,11,12,13,14,15,16,17,18,19,20,21,22,23,24,25,26,27,28,29,30,31,79,80,81,82,83,84,85,86,87,88,89,90,91,92,93,94,95,96,97,98,99,100,101,102,103,104,105,106,107,108,109,110,111,112,113,114,115,116,117,118,119,120,121,122,123,124,125,126,127,128,129,130,131,132,133,134,135,136,137,138,139,140,141,142,143,144,145,146,147,148,149,150,151,152]\n",
    "\n",
    "finalArr = \"\"\n",
    "my_list = [1, 2, 3]\n",
    "for a in arr:\n",
    "    random.shuffle(my_list)\n",
    "    for i in range(0,random.randint(1, 3)):\n",
    "        finalArr=finalArr+\"(\"+str(a)+\",\"+str(my_list[i])+\"), \"\n",
    "print(finalArr)\n",
    "\n",
    "\n"
   ]
  },
  {
   "cell_type": "code",
   "execution_count": null,
   "metadata": {},
   "outputs": [],
   "source": []
  }
 ],
 "metadata": {
  "kernelspec": {
   "display_name": "Python 3",
   "language": "python",
   "name": "python3"
  },
  "language_info": {
   "codemirror_mode": {
    "name": "ipython",
    "version": 3
   },
   "file_extension": ".py",
   "mimetype": "text/x-python",
   "name": "python",
   "nbconvert_exporter": "python",
   "pygments_lexer": "ipython3",
   "version": "3.12.0"
  }
 },
 "nbformat": 4,
 "nbformat_minor": 2
}
